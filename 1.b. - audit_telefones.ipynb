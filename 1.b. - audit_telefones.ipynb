{
 "cells": [
  {
   "cell_type": "markdown",
   "metadata": {},
   "source": [
    "### 1.b. - Auditoria no número de Telefones (Phone)"
   ]
  },
  {
   "cell_type": "code",
   "execution_count": 5,
   "metadata": {
    "scrolled": false
   },
   "outputs": [
    {
     "name": "stdout",
     "output_type": "stream",
     "text": [
      "node tag {'k': 'phone', 'v': '11 4038-2655'}\n",
      "node tag {'k': 'phone', 'v': '+55 11 45272373'}\n",
      "node tag {'k': 'phone', 'v': '(11) 4522-3149'}\n",
      "node tag {'k': 'phone', 'v': ': 11 3917-0751'}\n",
      "way tag {'k': 'phone', 'v': '+55 11 4531 0082;+55 11 4531 0083'}\n",
      "way tag {'k': 'phone', 'v': '+55 11 44466767'}\n",
      "way tag {'k': 'phone', 'v': '+55 11 4526-1246;+55 11 4588-9446'}\n",
      "way tag {'k': 'phone', 'v': '+55 11 45841402'}\n",
      "way tag {'k': 'phone', 'v': '+ 55 11 4525 5000'}\n",
      "way tag {'k': 'phone', 'v': '(11) 4496-2754'}\n"
     ]
    }
   ],
   "source": [
    "import xml.etree.cElementTree as ET\n",
    "from collections import defaultdict\n",
    "import re\n",
    "import pprint\n",
    "\n",
    "OSMFILE = \"dados/jundiai_e_regiao_map_zen.osm\"\n",
    "street_type_re = re.compile(r'\\b\\S+\\.?$', re.IGNORECASE)\n",
    "\n",
    "# Telefone normal e celular e 0800\n",
    "phone_format_num1 = re.compile(r'^(... .. .... ....)|(... .. ..... ....)|(.... ... ....)')\n",
    "\n",
    "# Telefone normal e celular e 0800 (com separação por traço \"-\")\n",
    "phone_format_num2 = re.compile(r'^(... .. ....-....)|(... .. .....-....)|(.... ...-....)')\n",
    "\n",
    "# Contem catacteres inválidos\n",
    "problemchars = re.compile(r'([=\\/&<>;\\'\"\\?%#$@\\,\\.\\t\\r\\n]|[A-z])')\n",
    "\n",
    "\n",
    "def audit_characters_phone(element):\n",
    "    classificated = False\n",
    "    result = False\n",
    "    \n",
    "    # PROBLEMCHAR\n",
    "    if problemchars.search(element) is not None:\n",
    "        classificated = True        \n",
    "        \n",
    "    # CORRETO num1\n",
    "    if not classificated:\n",
    "        if phone_format_num1.search(element) is not None:        \n",
    "            result = True\n",
    "            classificated = True        \n",
    "            \n",
    "    # CORRETO num2\n",
    "    if not classificated:\n",
    "        if phone_format_num2.search(element) is not None:        \n",
    "            result = True\n",
    "            classificated = True        \n",
    "   \n",
    "    return result\n",
    "\n",
    "def audit(osmfile):\n",
    "    osm_file = open(osmfile, \"r+\", encoding=\"utf8\")\n",
    "    street_types = defaultdict(set)\n",
    "\n",
    "    context = ET.iterparse(osm_file, events=(\"start\",))\n",
    "    \n",
    "    for event, elem in context:\n",
    "        #print(elem)\n",
    "        \n",
    "        if elem.tag == \"node\" or elem.tag == \"way\":\n",
    "            \n",
    "            for tag in elem.iter(\"tag\"):\n",
    "                #print('\\n',tag.tag, tag.attrib)\n",
    "                \n",
    "                if (tag.attrib['k'] == \"phone\"):\n",
    "                    #print('\\n',elem.tag, tag.tag, tag.attrib)\n",
    "                    if audit_characters_phone(tag.attrib['v']) == False:\n",
    "                        print(elem.tag, tag.tag, tag.attrib)\n",
    "\n",
    "        \n",
    "    osm_file.close()\n",
    "    \n",
    "\n",
    "    return street_types\n",
    "\n",
    "\n",
    "def test():\n",
    "    # Auditar para encontrar nomes fora do padrão\n",
    "    st_types = audit(OSMFILE)\n",
    "            \n",
    "\n",
    "if __name__ == '__main__':\n",
    "    test()\n"
   ]
  }
 ],
 "metadata": {
  "kernelspec": {
   "display_name": "Python 3",
   "language": "python",
   "name": "python3"
  },
  "language_info": {
   "codemirror_mode": {
    "name": "ipython",
    "version": 3
   },
   "file_extension": ".py",
   "mimetype": "text/x-python",
   "name": "python",
   "nbconvert_exporter": "python",
   "pygments_lexer": "ipython3",
   "version": "3.6.1"
  }
 },
 "nbformat": 4,
 "nbformat_minor": 2
}
