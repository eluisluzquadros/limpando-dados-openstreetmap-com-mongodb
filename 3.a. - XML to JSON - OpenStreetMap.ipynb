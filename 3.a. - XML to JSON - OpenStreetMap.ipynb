{
 "cells": [
  {
   "cell_type": "markdown",
   "metadata": {},
   "source": [
    "### 3.a. - XML to JSON - OpenStreetMap\n",
    "\n",
    "\n",
    "Reference:\n",
    "\n",
    "https://github.com/bestkao/data-wrangling-with-openstreetmap-and-mongodb/blob/master/data-wrangling-with-openstreetmaps.ipynb"
   ]
  },
  {
   "cell_type": "code",
   "execution_count": 1,
   "metadata": {
    "collapsed": true
   },
   "outputs": [],
   "source": [
    "import xml.etree.ElementTree as ET\n",
    "import pprint\n",
    "\n",
    "from datetime import datetime\n",
    "\n",
    "CREATED = [\"version\", \"changeset\", \"timestamp\", \"user\", \"uid\"]\n",
    "\n",
    "def is_street_name(elem):\n",
    "    return (elem.attrib['k'] == \"addr:street\")\n",
    "\n",
    "def shape_element(element):\n",
    "    node = {}    \n",
    "    if element.tag == \"node\" or element.tag == \"way\" :\n",
    "        node['type'] = element.tag\n",
    "        \n",
    "        # Parse attributes\n",
    "        for attrib in element.attrib:\n",
    "\n",
    "            # Data creation details\n",
    "            if attrib in CREATED:\n",
    "                if 'created' not in node:\n",
    "                    node['created'] = {}\n",
    "                if attrib == 'timestamp':\n",
    "                    node['created'][attrib] = datetime.strptime(element.attrib[attrib], '%Y-%m-%dT%H:%M:%SZ')\n",
    "                else:\n",
    "                    node['created'][attrib] = element.get(attrib)\n",
    "\n",
    "            # Parse location\n",
    "            if attrib in ['lat', 'lon']:\n",
    "                lat = float(element.attrib.get('lat'))\n",
    "                lon = float(element.attrib.get('lon'))\n",
    "                node['pos'] = [lat, lon]\n",
    "\n",
    "            # Parse the rest of attributes\n",
    "            else:\n",
    "                node[attrib] = element.attrib.get(attrib)\n",
    "            \n",
    "        # Process tags\n",
    "        for tag in element.iter('tag'):\n",
    "            key   = tag.attrib['k']\n",
    "            value = tag.attrib['v']\n",
    "            #if not problemchars.search(key): \n",
    "            \n",
    "            # Tags with single colon and beginning with addr\n",
    "            if key.find('addr') == 0:\n",
    "                if 'address' not in node:\n",
    "                    node['address'] = {}\n",
    "                sub_attr = key.split(':')[1]\n",
    "                node['address'][sub_attr] = value\n",
    "\n",
    "            # All other tags that don't begin with \"addr\"\n",
    "            elif not key.find('addr') == 0:\n",
    "                if key not in node:\n",
    "                    node[key] = value\n",
    "            else:\n",
    "                node[\"tag:\" + key] = value\n",
    "        \n",
    "        # Process nodes\n",
    "        for nd in element.iter('nd'):\n",
    "            if 'node_refs' not in node:\n",
    "                node['node_refs'] = []\n",
    "            node['node_refs'].append(nd.attrib['ref'])\n",
    "\n",
    "        return node\n",
    "    else:\n",
    "        return None"
   ]
  },
  {
   "cell_type": "code",
   "execution_count": 2,
   "metadata": {
    "collapsed": true
   },
   "outputs": [],
   "source": [
    "import json\n",
    "from bson import json_util\n",
    "\n",
    "def process_map(file_in, pretty = False):\n",
    "    file_out = \"{0}.json\".format(file_in)  \n",
    "    with open(file_out, \"w\") as fo:\n",
    "    # with open(file_out, \"wb\") as fo: # With error: TypeError: a bytes-like object is required, not 'str'\n",
    "        for _, element in ET.iterparse(file_in):\n",
    "            el = shape_element(element)\n",
    "            if el:\n",
    "                if pretty:\n",
    "                    fo.write(json.dumps(el, indent=2, default=json_util.default)+\"\\n\")\n",
    "                else:\n",
    "                    fo.write(json.dumps(el, default=json_util.default) + \"\\n\")\n",
    "\n",
    "process_map(\"dados/output_street.osm\")\n"
   ]
  }
 ],
 "metadata": {
  "kernelspec": {
   "display_name": "Python 3",
   "language": "python",
   "name": "python3"
  },
  "language_info": {
   "codemirror_mode": {
    "name": "ipython",
    "version": 3
   },
   "file_extension": ".py",
   "mimetype": "text/x-python",
   "name": "python",
   "nbconvert_exporter": "python",
   "pygments_lexer": "ipython3",
   "version": "3.6.1"
  }
 },
 "nbformat": 4,
 "nbformat_minor": 2
}
