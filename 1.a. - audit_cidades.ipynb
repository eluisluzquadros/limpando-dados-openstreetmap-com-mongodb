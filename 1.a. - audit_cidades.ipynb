{
 "cells": [
  {
   "cell_type": "markdown",
   "metadata": {
    "collapsed": true
   },
   "source": [
    "### 1.a. - Autitoria no nome de Cidades (City)"
   ]
  },
  {
   "cell_type": "code",
   "execution_count": 6,
   "metadata": {
    "scrolled": false
   },
   "outputs": [
    {
     "name": "stdout",
     "output_type": "stream",
     "text": [
      "Araçariguama: 3\n",
      "Atibaia: 167\n",
      "Botujuru: 1\n",
      "Caieiras: 4\n",
      "Cajamar: 13\n",
      "Campo Limpo Paulista: 11\n",
      "Campo0 Limpo Paulista: 1\n",
      "Francisco Morato: 9\n",
      "Franco da Rocha: 86\n",
      "Indaiatuba: 1\n",
      "Itupeva: 13\n",
      "Jarinu: 1\n",
      "Jundiai: 11\n",
      "JundiaÌ: 2\n",
      "Jundiaí: 350\n",
      "JUndiaí: 1\n",
      "Jundiái: 1\n",
      "Louveira: 1\n",
      "Mairipora: 1\n",
      "Mairiporã: 382\n",
      "Mariporã: 2\n",
      "Pirapora do Bom Jesus: 2\n",
      "São Bernardo do Campo: 2\n",
      "São Paulo: 11\n",
      "Vinhedo: 4\n",
      "Várzea Paulista: 18\n",
      "Várzea Paulista, SP: 1\n"
     ]
    }
   ],
   "source": [
    "\"\"\" Realizar autitoria no nome das cidades.\n",
    "\n",
    "O programa ira analisar os nodes do tipo \"tag\", que contenham o atributo \"addr:city\" e irá fazer\n",
    "a contagem de quantos casos existem para cada cidade encontrada. \n",
    "\n",
    "O resultao servirá para conhecermos e identificarmos os nomes de cidades que podem estar incorretos.\n",
    "\"\"\"\n",
    "\n",
    "import xml.etree.cElementTree as ET\n",
    "from collections import defaultdict\n",
    "import re\n",
    "\n",
    "\n",
    "# Arquivo XML que a ser auditado\n",
    "osm_file = open(\"dados/jundiai_e_regiao_map_zen.osm\", \"r\", encoding=\"utf-8\")\n",
    "\n",
    "\n",
    "city_types = defaultdict(int)\n",
    "\n",
    "def audit_city_type(city_types, city_name): \n",
    "    \"\"\" Quantidade de ocorrencias por cidade\n",
    "    \n",
    "    Função responsável por criar uma variável que realize a contagem da quantidade de ocorrências\n",
    "    de cada cidade encontrada.\n",
    "    \n",
    "    Argumentos:\n",
    "        city_types (dict): Concentra as cidades e quantidade de ocorrências\n",
    "        city_name  (str) : Nome da cidade\n",
    "        \n",
    "    \"\"\"\n",
    "    \n",
    "    city_type = city_name\n",
    "    city_types[city_type] += 1\n",
    "\n",
    "    \n",
    "def print_sorted_dict(d):\n",
    "    \"\"\" Imprimir dicionário com cidades\n",
    "    \n",
    "    Imprime em tela o dicionário com as cidades e quantidades encontradas\n",
    "    \n",
    "    Argumentos:\n",
    "        d (dict): Variável contendo as cidades e quantidades\n",
    "        \n",
    "    \"\"\"    \n",
    "    \n",
    "    keys = d.keys()\n",
    "    keys = sorted(keys, key=lambda s: s.lower())\n",
    "    for k in keys:\n",
    "        v = d[k]\n",
    "        print(\"%s: %d\" % (k, v)) \n",
    "\n",
    "        \n",
    "def is_city_name(elem):\n",
    "    \"\"\" Verifica se é um nome de cidade\n",
    "    \n",
    "    Verifca é um elemento referente a um nome de cidade.\n",
    "    \n",
    "    \n",
    "    Argumentos:\n",
    "        elem (Element): Elemento XML\n",
    "        \n",
    "    Retorno:\n",
    "        True: Se o elemento for \"tag\" e elemento \"k\" for \"addr:city\". False para os demais casos.\n",
    "    \"\"\"\n",
    "    \n",
    "    return (elem.tag == \"tag\") and (elem.attrib['k'] == \"addr:city\")\n",
    "\n",
    "\n",
    "def audit():\n",
    "    \"\"\" Realiza varredura no arquivo XML identificando e agrupando os nomes das cidades  \n",
    "    \"\"\"\n",
    "        \n",
    "    for event, elem in ET.iterparse(osm_file):\n",
    "        if is_city_name(elem):\n",
    "            audit_city_type(city_types, elem.attrib['v'])    \n",
    "    print_sorted_dict(city_types)    \n",
    "\n",
    "if __name__ == '__main__':\n",
    "    audit()\n",
    "    "
   ]
  }
 ],
 "metadata": {
  "kernelspec": {
   "display_name": "Python 3",
   "language": "python",
   "name": "python3"
  },
  "language_info": {
   "codemirror_mode": {
    "name": "ipython",
    "version": 3
   },
   "file_extension": ".py",
   "mimetype": "text/x-python",
   "name": "python",
   "nbconvert_exporter": "python",
   "pygments_lexer": "ipython3",
   "version": "3.6.1"
  }
 },
 "nbformat": 4,
 "nbformat_minor": 2
}
