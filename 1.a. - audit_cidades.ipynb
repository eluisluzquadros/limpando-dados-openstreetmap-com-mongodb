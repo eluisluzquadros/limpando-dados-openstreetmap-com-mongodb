{
 "cells": [
  {
   "cell_type": "markdown",
   "metadata": {
    "collapsed": true
   },
   "source": [
    "### 1.a. - Autitoria no nome de Cidades (City)"
   ]
  },
  {
   "cell_type": "code",
   "execution_count": 3,
   "metadata": {
    "scrolled": false
   },
   "outputs": [
    {
     "name": "stdout",
     "output_type": "stream",
     "text": [
      "Araçariguama: 3\n",
      "Atibaia: 167\n",
      "Botujuru: 1\n",
      "Caieiras: 4\n",
      "Cajamar: 13\n",
      "Campo Limpo Paulista: 11\n",
      "Campo0 Limpo Paulista: 1\n",
      "Francisco Morato: 9\n",
      "Franco da Rocha: 86\n",
      "Indaiatuba: 1\n",
      "Itupeva: 13\n",
      "Jarinu: 1\n",
      "Jundiai: 11\n",
      "JundiaÌ: 2\n",
      "Jundiaí: 350\n",
      "JUndiaí: 1\n",
      "Jundiái: 1\n",
      "Louveira: 1\n",
      "Mairipora: 1\n",
      "Mairiporã: 382\n",
      "Mariporã: 2\n",
      "Pirapora do Bom Jesus: 2\n",
      "São Bernardo do Campo: 2\n",
      "São Paulo: 11\n",
      "Vinhedo: 4\n",
      "Várzea Paulista: 18\n",
      "Várzea Paulista, SP: 1\n"
     ]
    }
   ],
   "source": [
    "import xml.etree.cElementTree as ET\n",
    "from collections import defaultdict\n",
    "import re\n",
    "\n",
    "osm_file = open(\"dados/jundiai_e_regiao_map_zen.osm\", \"r\", encoding=\"utf-8\")\n",
    "\n",
    "street_types = defaultdict(int)\n",
    "\n",
    "def audit_street_type(street_types, street_name):   \n",
    "    street_type = street_name\n",
    "    street_types[street_type] += 1\n",
    "\n",
    "def print_sorted_dict(d):\n",
    "    keys = d.keys()\n",
    "    keys = sorted(keys, key=lambda s: s.lower())\n",
    "    for k in keys:\n",
    "        v = d[k]\n",
    "        print(\"%s: %d\" % (k, v)) \n",
    "\n",
    "def is_city_name(elem):\n",
    "    return (elem.tag == \"tag\") and (elem.attrib['k'] == \"addr:city\")\n",
    "\n",
    "def audit():\n",
    "    for event, elem in ET.iterparse(osm_file):\n",
    "        if is_city_name(elem):\n",
    "            audit_street_type(street_types, elem.attrib['v'])    \n",
    "    print_sorted_dict(street_types)    \n",
    "\n",
    "if __name__ == '__main__':\n",
    "    audit()\n",
    "    "
   ]
  }
 ],
 "metadata": {
  "kernelspec": {
   "display_name": "Python 3",
   "language": "python",
   "name": "python3"
  },
  "language_info": {
   "codemirror_mode": {
    "name": "ipython",
    "version": 3
   },
   "file_extension": ".py",
   "mimetype": "text/x-python",
   "name": "python",
   "nbconvert_exporter": "python",
   "pygments_lexer": "ipython3",
   "version": "3.6.1"
  }
 },
 "nbformat": 4,
 "nbformat_minor": 2
}
